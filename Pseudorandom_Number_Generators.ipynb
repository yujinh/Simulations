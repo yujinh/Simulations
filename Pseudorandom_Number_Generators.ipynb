{
 "cells": [
  {
   "cell_type": "markdown",
   "metadata": {},
   "source": [
    "# Pseudo-random Numbers"
   ]
  },
  {
   "cell_type": "markdown",
   "metadata": {},
   "source": [
    "#### Wish to estimate $\\alpha = P(U \\le 0.6)$, where U is uniformly distributed on (0,1). Clearly $\\alpha$ = 0.6, but suppose that we don't know that and instead use simulation. Our random numbers will come from the LCG x<sub>n+1</sub> = (17$x_n$ + 13) mod 23."
   ]
  },
  {
   "cell_type": "markdown",
   "metadata": {},
   "source": [
    "Use this LCG to generate a sequesnce pseudo random uniform (0,1) random numbers starting with seed $x_0$ = 2. Give an estimate for $\\alpha$ based on 10, 20, 200, and 2000 pseudo-random numbers."
   ]
  },
  {
   "cell_type": "code",
   "execution_count": 1,
   "metadata": {
    "collapsed": true
   },
   "outputs": [],
   "source": [
    "import numpy as np\n",
    "import scipy.stats\n",
    "import matplotlib.pyplot as plt\n",
    "%matplotlib inline"
   ]
  },
  {
   "cell_type": "code",
   "execution_count": 3,
   "metadata": {},
   "outputs": [
    {
     "name": "stdout",
     "output_type": "stream",
     "text": [
      "For n=10 the alpha value is 0.6.\n",
      "For n=20 the alpha value is 0.7.\n",
      "For n=200 the alpha value is 0.64.\n",
      "For n=2000 the alpha value is 0.637.\n"
     ]
    }
   ],
   "source": [
    "# code is based off of code from Recitation 3\n",
    "a = 17\n",
    "c = 13\n",
    "m = 23\n",
    "\n",
    "n_list = [10,20,200,2000]\n",
    "\n",
    "for n in n_list:\n",
    "    X=np.empty(n)\n",
    "    X[0] = 2 \n",
    "    \n",
    "    for i in range (1,n):\n",
    "        X[i] = np.mod(a*X[i-1] + c, m)\n",
    "        \n",
    "    alpha = (sum((X+1)/(m+1)<=0.6))/float(n)\n",
    "    \n",
    "    print (\"For n=\" + str(n) + \" the alpha value is \"+str(alpha)+\".\")"
   ]
  },
  {
   "cell_type": "markdown",
   "metadata": {},
   "source": [
    "#### Limit of the estimate obtained from the first n pseudo-random numbers produces as n -> infinity."
   ]
  },
  {
   "cell_type": "code",
   "execution_count": 4,
   "metadata": {},
   "outputs": [
    {
     "name": "stdout",
     "output_type": "stream",
     "text": [
      "[   0   22   44   66   88  110  132  154  176  198  220  242  264  286  308\n",
      "  330  352  374  396  418  440  462  484  506  528  550  572  594  616  638\n",
      "  660  682  704  726  748  770  792  814  836  858  880  902  924  946  968\n",
      "  990 1012 1034 1056 1078 1100 1122 1144 1166 1188 1210 1232 1254 1276 1298\n",
      " 1320 1342 1364 1386 1408 1430 1452 1474 1496 1518 1540 1562 1584 1606 1628\n",
      " 1650 1672 1694 1716 1738 1760 1782 1804 1826 1848 1870 1892 1914 1936 1958\n",
      " 1980]\n",
      "14\n",
      "0.6363636363636364\n"
     ]
    }
   ],
   "source": [
    "print (np.where(X==2)[0]) \n",
    "#period is 22\n",
    "print (np.sum(((X[:22]+1.0)/(m+1))<=0.6))\n",
    "#total <= 0.6 in one period is 14\n",
    "print (14./22)"
   ]
  },
  {
   "cell_type": "markdown",
   "metadata": {},
   "source": [
    "14 of the numbers in the period of 22 will count toward the probability estimate. Therefore 14/22= 0.636 is the limiting probability estimate. "
   ]
  },
  {
   "cell_type": "markdown",
   "metadata": {},
   "source": [
    "#### In order to avoid biases, simulations should not use anywhere near the full period of an LCG. This creates a problem for some large simulation, which need a lot of random variables. We will now see a method to combine multiple LCGs to obtain a generator with a longer period. \n",
    "The main idea for increasing the period of an LCG is to add a smaller period LCG to it. "
   ]
  },
  {
   "cell_type": "code",
   "execution_count": 5,
   "metadata": {
    "collapsed": true
   },
   "outputs": [],
   "source": [
    "# CODE FROM PRNGs.ipynb\n",
    "\n",
    "# Function to generate pseudorandom sequence using LCG\n",
    "# Setting default parameters to glibc specifications (without truncation)\n",
    "\n",
    "def LCG(n,m = 2**31-1,a = 1103515245,c = 12345,x_0 = 1):\n",
    "    output = np.zeros(n)\n",
    "\n",
    "    x = x_0\n",
    "    for i in range(n):\n",
    "        output[i] = (x+1.0)/(m+1.0)\n",
    "        x = (a*x+c)%m\n",
    "\n",
    "    return output\n",
    "\n",
    "# Functions to visualize LCG sequence on clock\n",
    "def plot_clock_face(m,fig,annotate = False):\n",
    "    # Plot the m points on the unit circle\n",
    "    for i in range(m):\n",
    "        theta = 2.0*np.pi*i/m\n",
    "        plt.plot(np.sin(theta),np.cos(theta),'rs')\n",
    "        if annotate:\n",
    "            plt.annotate(str(i), (np.pi/2-theta,1.05),xycoords='polar')\n",
    "\n",
    "\n",
    "def plot_clock_path(m,x,fig,color = 'b'):\n",
    "    # Plot the seed node\n",
    "    theta_0 = 2.0*np.pi*(x[0]*(m+1)-1)/m\n",
    "    plt.plot(np.sin(theta_0),np.cos(theta_0),'gs')\n",
    "    \n",
    "    # Plot the path of the LCG sequence\n",
    "    for i in range(len(x)-1):\n",
    "        theta_start = 2.0*np.pi*(x[i]*(m+1)-1)/m\n",
    "        theta_end = 2.0*np.pi*(x[i+1]*(m+1)-1)/m\n",
    "        x_start = np.sin(theta_start)\n",
    "        y_start = np.cos(theta_start)\n",
    "        del_x = np.sin(theta_end) - np.sin(theta_start)\n",
    "        del_y = np.cos(theta_end) - np.cos(theta_start)\n",
    "        if abs(del_x)>0 or abs(del_y)>0:\n",
    "            plt.arrow(x_start,y_start,del_x,del_y, \n",
    "                      length_includes_head = True, head_width=0.05, head_length=0.1, fc=color, ec=color)    "
   ]
  },
  {
   "cell_type": "markdown",
   "metadata": {},
   "source": [
    "#### Consider two LCGs, x<sub>n+1</sub> = (5$x_n$) mod 16 and y<sub>n+1</sub> = (2$y_n$) mod 7. Starting both with seed $x_0$ = $y_0$ = 1, plot the sequences $x_n$, $y_n$, using the clock visualization introduced in class (one separate plot for eah sequence)."
   ]
  },
  {
   "cell_type": "markdown",
   "metadata": {},
   "source": [
    "##### x <sub>n</sub> SEQUENCE"
   ]
  },
  {
   "cell_type": "code",
   "execution_count": 6,
   "metadata": {},
   "outputs": [
    {
     "data": {
      "image/png": "[encoded data removed]",
      "text/plain": [
       "<matplotlib.figure.Figure at 0x10edb85c0>"
      ]
     },
     "metadata": {},
     "output_type": "display_data"
    }
   ],
   "source": [
    "#Code based off of PRNGs.ipynb\n",
    "\n",
    "m = 16\n",
    "a = 5\n",
    "c = 0\n",
    "x_0=1\n",
    "n=m+1\n",
    "\n",
    "fig = plt.figure()\n",
    "x = LCG(n,m,a,c,x_0)\n",
    "\n",
    "plot_clock_face(m,fig,annotate = True)\n",
    "plot_clock_path(m,x,fig)\n",
    "plt.axis('equal')\n",
    "plt.axis('off')\n",
    "plt.show()"
   ]
  },
  {
   "cell_type": "markdown",
   "metadata": {},
   "source": [
    "##### y <sub>n</sub> SEQUENCE"
   ]
  },
  {
   "cell_type": "code",
   "execution_count": 8,
   "metadata": {},
   "outputs": [
    {
     "data": {
      "image/png": "[encoded data removed]",
      "text/plain": [
       "<matplotlib.figure.Figure at 0x10ef1af60>"
      ]
     },
     "metadata": {},
     "output_type": "display_data"
    }
   ],
   "source": [
    "#Code based off of PRNGs.ipynb\n",
    "\n",
    "m = 7\n",
    "a = 2\n",
    "c = 0\n",
    "x_0=1\n",
    "n= m+1\n",
    "\n",
    "fig = plt.figure()\n",
    "x = LCG(n,m,a,c,x_0)\n",
    "\n",
    "plot_clock_face(m,fig,annotate = True)\n",
    "plot_clock_path(m,x,fig)\n",
    "plt.axis('equal')\n",
    "plt.axis('off')\n",
    "plt.show()"
   ]
  },
  {
   "cell_type": "markdown",
   "metadata": {},
   "source": [
    "#### Next, define a combined LCG as $z_n$ = ($x_n$ + $y_n$) mod 16. Starting both the base LCGs with seed $x_0$ = $y_0$ = 1, plot the sequence $z_n$ using the clock visualization."
   ]
  },
  {
   "cell_type": "code",
   "execution_count": 9,
   "metadata": {
    "collapsed": true
   },
   "outputs": [],
   "source": [
    "#based on LCG function from PRNGs.ipynb\n",
    "def Combined_LCG(n,m, x_0, y_0, x_a, y_a, x_c, y_c, x_m, y_m):\n",
    "    output = np.zeros(n)\n",
    "\n",
    "    x = x_0\n",
    "    y = y_0\n",
    "    for i in range(n):\n",
    "        output[i] = (x+y+1.)/(m+1.) #Z= (X + Y) mod m\n",
    "        x = (x_a*x+x_c)%x_m\n",
    "        y = (y_a*y+y_c)%y_m\n",
    "        \n",
    "    return output"
   ]
  },
  {
   "cell_type": "code",
   "execution_count": 10,
   "metadata": {},
   "outputs": [
    {
     "data": {
      "image/png": "[encoded data removed]",
      "text/plain": [
       "<matplotlib.figure.Figure at 0x10ee10588>"
      ]
     },
     "metadata": {},
     "output_type": "display_data"
    }
   ],
   "source": [
    "m = 16\n",
    "x_0 = 1\n",
    "y_0 = 1\n",
    "x_a = 5\n",
    "y_a = 2\n",
    "x_c = 0\n",
    "y_c = 0\n",
    "x_m = 16\n",
    "y_m = 7\n",
    "n = m+1\n",
    "\n",
    "fig = plt.figure()\n",
    "x = Combined_LCG(n ,m, x_0, y_0, x_a, y_a, x_c, y_c, x_m, y_m)\n",
    "\n",
    "plot_clock_face(m,fig,annotate = True)\n",
    "plot_clock_path(m,x,fig)\n",
    "plt.axis('equal')\n",
    "plt.axis('off')\n",
    "plt.show()"
   ]
  },
  {
   "cell_type": "markdown",
   "metadata": {},
   "source": [
    "Based on the plots, the periods for the sequences are as follows:\n",
    "\n",
    "$x_n$: 4\n",
    "\n",
    "$y_n$: 3\n",
    "\n",
    "$z_n$: 12"
   ]
  },
  {
   "cell_type": "markdown",
   "metadata": {},
   "source": [
    "#### Some modern random number generators have a massive period. such long period generators can be used to generate pseudorandom streams for parallel simulations. \n",
    "\n",
    "#### To be able to generate streams efficiently, we need to be able to identify the seeds corresponding to the first values of the streams we use. To find those, we can start with the seed corresponding to the start of the first stream. Let us arbitrarly take that seed equal to $x_0$ = 3. To find the seed corresponding to the start of the second stream. Steeping forward through the sequence one number at a time would take too long. In this question we figure out a fast way to jump ahead in the sequqnce. We assume that we can multiply exactly any two integers that are smaller than m.\n",
    "\n",
    "#### Suppose we have a multipicative generator x<sub>n+1</sub>=a($x_n$) mod m where a < m. We will use the fact that $x_n$ = ($a^nx_0$) mod m and that\n",
    "\n",
    "#### $ x_n  = ((a^n $ mod m) $x_0$) mod m    for all $n \\ge 1$. \n",
    "\n",
    "#### Take a = $7^5$ = 16,807 and m = 2<sup>31</sup> - 1= 2,147,483,647. Devise a method to compute $x_n$ quickly when n=2<sup>138</sup>."
   ]
  },
  {
   "cell_type": "code",
   "execution_count": 12,
   "metadata": {},
   "outputs": [
    {
     "name": "stdout",
     "output_type": "stream",
     "text": [
      "1946723422\n"
     ]
    }
   ],
   "source": [
    "a = 7**5\n",
    "m = 2**31 - 1\n",
    "n = 2**138\n",
    "x=a\n",
    "#x_0 = 3\n",
    "\n",
    "for i in range(138):\n",
    "    x = (x**2)%m\n",
    "\n",
    "#print x\n",
    "print ((x*3)%m)"
   ]
  },
  {
   "cell_type": "markdown",
   "metadata": {},
   "source": [
    "By taking $x^2$ 138 times starting with x=a, we eventually raise a to the 2<sup>138</sup> power. I take the mod m of x after each iteration since we can multiply exactly any two integers that are smaller than m and times the iteration result by $x_0$ and mod m since $ x_n  = ((a^n $ mod m) $x_0$) mod m    for all $n \\ge 1$. The output of my code is 1946723422 which represents the value of $x_n$ that we found. "
   ]
  },
  {
   "cell_type": "code",
   "execution_count": null,
   "metadata": {
    "collapsed": true
   },
   "outputs": [],
   "source": []
  }
 ],
 "metadata": {
  "kernelspec": {
   "display_name": "Python 3",
   "language": "python",
   "name": "python3"
  },
  "language_info": {
   "codemirror_mode": {
    "name": "ipython",
    "version": 3
   },
   "file_extension": ".py",
   "mimetype": "text/x-python",
   "name": "python",
   "nbconvert_exporter": "python",
   "pygments_lexer": "ipython3",
   "version": "3.6.2"
  }
 },
 "nbformat": 4,
 "nbformat_minor": 2
}
