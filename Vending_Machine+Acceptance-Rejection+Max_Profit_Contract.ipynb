{
 "cells": [
  {
   "cell_type": "markdown",
   "metadata": {},
   "source": [
    "# Vending Machine"
   ]
  },
  {
   "cell_type": "markdown",
   "metadata": {},
   "source": [
    "#### You are designing a vending machine, and want the machine to be able to detect the difference between U.S. and Canadian quarters. The diameter of U.S. quarters averages $24.26$ mm, while Canadian quarters average $23.81$ mm. Suppose that coin diameters in circulation, whether U.S. or Canadian, are normally distributed with standard deviation $0.15$ mm (this number and distribution are both made up, but let’s go with it). Furthermore, vending machines measure diameters with error, so if the true diameter is $D$ mm, then the vending machine returns $D + E$ mm, where $E$ stands for “error,” is normally distributed with mean $0$ mm and standard deviation $0.21$ mm, and is independent of the true measurements of the coin.\n",
    "\n",
    "#### Suppose the vending machine measures a quarter, and declares it to be a U.S. quarter if the measured diameter is greater than $24.02$ mm. Use simulation to determine the probability that the vending machine will, when given a Canadian quarter, accept it as a U.S. quarter. Ensure your answer is accurate to approximately two decimal places (i.e. halfwidth less than or equal to $0.005$) when using a $95\\%$ CI. Also, compare your simulation answer to the true probability as computed using the normal distribution.\n",
    "\n",
    "#### Perform a pilot run to determine sample std to calculate n. "
   ]
  },
  {
   "cell_type": "code",
   "execution_count": 1,
   "metadata": {
    "collapsed": true
   },
   "outputs": [],
   "source": [
    "import numpy as np\n",
    "import scipy.stats \n",
    "import scipy as sp\n",
    "import matplotlib.pyplot as plt\n",
    "from math import sqrt\n",
    "%matplotlib inline"
   ]
  },
  {
   "cell_type": "code",
   "execution_count": 3,
   "metadata": {},
   "outputs": [
    {
     "name": "stdout",
     "output_type": "stream",
     "text": [
      "sample std: 0.408724846321\n"
     ]
    }
   ],
   "source": [
    "# Pilot to find sample std \n",
    "\n",
    "n = 1000\n",
    "\n",
    "CAN_mean = 23.81;\n",
    "CAN_std = .15;\n",
    "ERROR_mean = 0;\n",
    "ERROR_std = .21;\n",
    "\n",
    "CAN = np.random.normal(CAN_mean, CAN_std, n)\n",
    "ERROR = np.random.normal(ERROR_mean, ERROR_std, n)\n",
    "\n",
    "read = CAN + ERROR\n",
    "accept = (read > 24.02)\n",
    "\n",
    "print ('sample std:', np.std(accept))"
   ]
  },
  {
   "cell_type": "markdown",
   "metadata": {},
   "source": [
    "Choose n= 25000"
   ]
  },
  {
   "cell_type": "code",
   "execution_count": 6,
   "metadata": {},
   "outputs": [
    {
     "name": "stdout",
     "output_type": "stream",
     "text": [
      "Probability of accepting Canada as US:  0.20748\n",
      "95% confidence interval:  (0.20245334241570659, 0.21250665758429341)\n"
     ]
    }
   ],
   "source": [
    "# Simulation with n determined from pilot\n",
    "\n",
    "n = 25000\n",
    "\n",
    "CAN_mean = 23.81;\n",
    "CAN_std = .15;\n",
    "ERROR_mean = 0;\n",
    "ERROR_std = .21;\n",
    "\n",
    "CAN = np.random.normal(CAN_mean, CAN_std, n)\n",
    "ERROR = np.random.normal(ERROR_mean, ERROR_std, n)\n",
    "\n",
    "read = CAN + ERROR\n",
    "accept = (read > 24.02)\n",
    "\n",
    "accept_mean = np.mean(accept)\n",
    "accept_std = np.std(accept)\n",
    "\n",
    "halfwidth = 1.96*accept_std/sqrt(n)\n",
    "\n",
    "lowerB = accept_mean - halfwidth\n",
    "upperB = accept_mean + halfwidth\n",
    "\n",
    "print ('Probability of accepting Canada as US: ', accept_mean)\n",
    "print ('95% confidence interval: ', (lowerB, upperB))"
   ]
  },
  {
   "cell_type": "markdown",
   "metadata": {},
   "source": [
    "#### Suppose that if the vending machine rejects your quarter on the first attempt, you will try it one more time before giving up. If you use a Canadian quarter, then what is the probability it will be accepted within these two trials? Use a simulation to construct a 95% confidence interval for this probability. Again, use enough trials so that your confidence interval half width is no more than $0.005$."
   ]
  },
  {
   "cell_type": "code",
   "execution_count": 7,
   "metadata": {},
   "outputs": [
    {
     "name": "stdout",
     "output_type": "stream",
     "text": [
      "sample std: 0.475041050858\n"
     ]
    }
   ],
   "source": [
    "# Pilot to find sample std \n",
    "\n",
    "n = 1000\n",
    "\n",
    "CAN_mean = 23.81;\n",
    "CAN_std = .15;\n",
    "ERROR_mean = 0;\n",
    "ERROR_std = .21;\n",
    "\n",
    "CAN = np.random.normal(CAN_mean, CAN_std, n)\n",
    "\n",
    "# First attempt \n",
    "ERROR1 = np.random.normal(ERROR_mean, ERROR_std, n)\n",
    "\n",
    "read1 = CAN + ERROR1\n",
    "accept1 = (read1 > 24.02)\n",
    "\n",
    "# Second atempt - error changes, coin diameter the same\n",
    "ERROR2 = np.random.normal(ERROR_mean, ERROR_std, n)\n",
    "\n",
    "read2 = CAN + ERROR2\n",
    "accept2 = (read2 > 24.02)\n",
    "\n",
    "# Both attempts\n",
    "accept = (accept1 + accept2)\n",
    "\n",
    "print ('sample std:', np.std(accept))"
   ]
  },
  {
   "cell_type": "markdown",
   "metadata": {},
   "source": [
    "Choose n = 36000"
   ]
  },
  {
   "cell_type": "code",
   "execution_count": 8,
   "metadata": {},
   "outputs": [
    {
     "name": "stdout",
     "output_type": "stream",
     "text": [
      "Probability of accepting Canada as US twice:  0.347111111111\n",
      "95% confidence interval:  (0.34219344863406631, 0.35202877358815587)\n"
     ]
    }
   ],
   "source": [
    "# Simulation with n determined from pilot\n",
    "\n",
    "n = 36000\n",
    "\n",
    "CAN_mean = 23.81;\n",
    "CAN_std = .15;\n",
    "ERROR_mean = 0;\n",
    "ERROR_std = .21;\n",
    "\n",
    "CAN = np.random.normal(CAN_mean, CAN_std, n)\n",
    "\n",
    "# First attempt \n",
    "ERROR1 = np.random.normal(ERROR_mean, ERROR_std, n)\n",
    "\n",
    "read1 = CAN + ERROR1\n",
    "accept1 = (read1 > 24.02)\n",
    "\n",
    "# Second atempt - error changes, coin diameter the same\n",
    "ERROR2 = np.random.normal(ERROR_mean, ERROR_std, n)\n",
    "\n",
    "read2 = CAN + ERROR2\n",
    "accept2 = (read2 > 24.02)\n",
    "\n",
    "# Both attempts\n",
    "accept = (accept1 + accept2)\n",
    "\n",
    "accept_mean = np.mean(accept)\n",
    "accept_std = np.std(accept)\n",
    "\n",
    "halfwidth = 1.96*accept_std/sqrt(n)\n",
    "\n",
    "lowerB = accept_mean - halfwidth\n",
    "upperB = accept_mean + halfwidth\n",
    "\n",
    "print ('Probability of accepting Canada as US twice: ', accept_mean)\n",
    "print ('95% confidence interval: ', (lowerB, upperB))"
   ]
  },
  {
   "cell_type": "markdown",
   "metadata": {},
   "source": [
    "#### In practice, vending machines also measure thickness. The mean thickness of U.S. quarters is 1.75mm while that of Canadian quarters is 1.58mm. Suppose that the standard deviation of a quarter's thickness is 0.1mm for both types of quarters and thicknesses are again normally distributed. Because the minting process utilizes coin blanks containing a certain amount of material, we will assume that the thickness and diameter of coins are negatively correlated. Assume that the correlation is $\\rho = -0.5$ for both U.S. and Canadian quarters. Assume that the vending machine measures thickness with errors that are normally distributed with mean 0 and standard deviation 0.05mm. Now suppose that the vending machine accepts coins as being U.S. coins if the measured diameter is more than 24.02mm $\\textbf{and}$ the measured thickness is more than 1.68mm. Assume the same situation as in the previous part where if your coin is rejected upon first insertion, you will try one more time then give up. Estimate the probability that a Canadian quarter will be accepted by the vending machine as a U.S. quarter within 2 tries."
   ]
  },
  {
   "cell_type": "code",
   "execution_count": 9,
   "metadata": {},
   "outputs": [
    {
     "name": "stdout",
     "output_type": "stream",
     "text": [
      "Probability of accepting Canada as US twice:  0.03825\n"
     ]
    }
   ],
   "source": [
    "n = 36000\n",
    "\n",
    "CAN_mean = [23.81, 1.58]\n",
    "\n",
    "CAN_std_d = .15;\n",
    "CAN_std_t = .1;\n",
    "\n",
    "ERROR_mean_d = 0;\n",
    "ERROR_std_d = .21;\n",
    "\n",
    "ERROR_mean_t = 0;\n",
    "ERROR_std_t = .05;\n",
    "\n",
    "# Generating Canadian coin of correlated diameter and thickness\n",
    "rho = -.5\n",
    "cov = [[CAN_std_d**2, rho*(CAN_std_d*CAN_std_t)],\n",
    "      [rho*(CAN_std_d*CAN_std_t), CAN_std_t**2]]\n",
    "\n",
    "d, t = np.random.multivariate_normal(CAN_mean, cov, n).T                                \n",
    "\n",
    "# First attempt \n",
    "ERROR1_d = np.random.normal(ERROR_mean_d, ERROR_std_d, n)\n",
    "ERROR1_t = np.random.normal(ERROR_mean_t, ERROR_std_t, n)\n",
    "\n",
    "read1_d = d + ERROR1_d\n",
    "read1_t = t + ERROR1_t\n",
    "accept1 = np.all([read1_d > 24.02, (read1_t > 1.68)], axis=0)\n",
    "\n",
    "# Second atempt - error changes, coin the same\n",
    "ERROR2_d = np.random.normal(ERROR_mean_d, ERROR_std_d, n)\n",
    "ERROR2_t = np.random.normal(ERROR_mean_t, ERROR_std_t, n)\n",
    "\n",
    "read2_d = d + ERROR2_d\n",
    "read2_t = t + ERROR2_t\n",
    "accept2 = np.all([read2_d > 24.02, (read2_t > 1.68)], axis=0)\n",
    "\n",
    "# Both attempts\n",
    "accept = (accept1 + accept2)\n",
    "\n",
    "print ('Probability of accepting Canada as US twice: ', np.mean(accept))"
   ]
  },
  {
   "cell_type": "markdown",
   "metadata": {},
   "source": [
    "# Acceptance-Rejection Algorithm"
   ]
  },
  {
   "cell_type": "markdown",
   "metadata": {},
   "source": [
    "#### Let the random variable $X$ have density\n",
    "\n",
    "#### $$ f(x) = \\left\\{ \\begin{array}{l l} (5 x^4 + 4x^3 + 1)/3  & \\text{ for } 0 \\leq x \\leq 1 \\\\ 0 & \\text{ otherwise. } \\end{array} \\right. $$\n",
    "\n",
    "#### Give an acceptance-rejection algorithm to generate samples of X."
   ]
  },
  {
   "cell_type": "code",
   "execution_count": 10,
   "metadata": {},
   "outputs": [
    {
     "data": {
      "text/plain": [
       "[<matplotlib.lines.Line2D at 0x112d85278>]"
      ]
     },
     "execution_count": 10,
     "metadata": {},
     "output_type": "execute_result"
    },
    {
     "data": {
      "image/png": "[encoded data removed]",
      "text/plain": [
       "<matplotlib.figure.Figure at 0x10b7d4c18>"
      ]
     },
     "metadata": {},
     "output_type": "display_data"
    }
   ],
   "source": [
    "x = np.linspace(0,1,100)\n",
    "fx = (5*x**4 + 4*x**3 +1)/3\n",
    "plt.plot(x,fx)"
   ]
  },
  {
   "cell_type": "markdown",
   "metadata": {},
   "source": [
    "1. Generate V ~ Unif(0,1), U ~ Unif(0,1)\n",
    "2. If U $\\le \\frac{f(V)}{M}$ accept V and set X <- V,\n",
    "otherwise reject V, and go back to Step 1.\n",
    "\n",
    "f(x) is an increasing function from $0\\le x\\le 1 $ so max of f(x) occurs when x=1, f(1) = $\\frac{5+4+1}{3}= \\frac{10}{3}$ so in this case M = $\\frac{10}{3}$."
   ]
  },
  {
   "cell_type": "markdown",
   "metadata": {},
   "source": [
    "#### On average, how many samples from the uniform distribution over [0,1] would your acceptance-rejection algorithm need in order to genereate one sample of X?"
   ]
  },
  {
   "cell_type": "markdown",
   "metadata": {},
   "source": [
    "Area under f(x) from $0\\le x \\le 1$ is 1 since the area under pdf is always 1 so the acceptance region is $\\frac{1}{M}$ Therefore on average we would need M samples to generate on sample of X. M = $\\frac{10}{3}$."
   ]
  },
  {
   "cell_type": "markdown",
   "metadata": {},
   "source": [
    "#### Use your algorithm to generate 2,500 samples of X. Note that this will require more than 2500 uniform random variables. Plot a histogram of your sample and compare it against the true pdf. "
   ]
  },
  {
   "cell_type": "code",
   "execution_count": 13,
   "metadata": {},
   "outputs": [],
   "source": [
    "# code based off Reciatation 4 Code\n",
    "n = 2500\n",
    "X= np.empty(n)\n",
    "M = 10/3\n",
    "\n",
    "count=0\n",
    "i = 0\n",
    "while i < n:\n",
    "    count += 1\n",
    "    V = np.random.rand()\n",
    "    U = np.random.rand()\n",
    "    if U <= ((5*V**4 + 4*V**3 +1)/3)/M:\n",
    "        X[i] = V\n",
    "        i +=1"
   ]
  },
  {
   "cell_type": "code",
   "execution_count": 14,
   "metadata": {},
   "outputs": [
    {
     "data": {
      "text/plain": [
       "[<matplotlib.lines.Line2D at 0x112db3da0>]"
      ]
     },
     "execution_count": 14,
     "metadata": {},
     "output_type": "execute_result"
    },
    {
     "data": {
      "image/png": "[encoded data removed]",
      "text/plain": [
       "<matplotlib.figure.Figure at 0x112db3d30>"
      ]
     },
     "metadata": {},
     "output_type": "display_data"
    }
   ],
   "source": [
    "plt.hist(X, normed = True);\n",
    "\n",
    "x = np.linspace (0,1,100)\n",
    "fx = (5*x**4 + 4*x**3 +1)/3\n",
    "plt.plot(x,fx)"
   ]
  },
  {
   "cell_type": "markdown",
   "metadata": {},
   "source": [
    "# Maximize Profit Contract"
   ]
  },
  {
   "cell_type": "markdown",
   "metadata": {},
   "source": [
    "#### Fingerlatkes MDF Co. produces sheets of medium-density fiberboard. Produceing each ton of MDF requires 1 ton of wood chips, which can be acquired through contract purchases from several suppliers. \n",
    "\n",
    "#### Fingerlakes won't be sure what its total demand will be before December, but have to decide which contractors to contract with in October. By contracting with supplier, commiting to pay for at least 80% of suppliers capcacity and can order up to 100% of supplier's capacity. Decision to contract with suppliar is binary.\n",
    "\n",
    "#### If turns out need more chips than contracted suppliers can supply, can obtain rest of chips on spot market paying the spot price which has triangular distirbution with min \\$16, \\$30 and most likely \\$20 (per metric ton. \n",
    "\n",
    "#### Fingerlakes has confirmed contracts fro 4,000 tons of MDF and are negotiation 10 small contracts each for 200 tons of MDF, and 2 large contracts for 2,500 tons of MDF. They believe their chances of getting the small contracts is 50% and 40% for the large contracts. Fingerlakes will always produce enought to meet the contracted demand. "
   ]
  },
  {
   "cell_type": "markdown",
   "metadata": {},
   "source": [
    "#### Suppose Fingerlakes signed contracts with all four suppliers. Provide estimates for the 10th percentile, median, and 90th percentile of the total cost of sourcing the wood chips needed to satisfy MDF demand. Also provide an estimate and a confidence interval (with confidence interval of your choice) for the expected total cost of sourcing the wood chips"
   ]
  },
  {
   "cell_type": "code",
   "execution_count": 16,
   "metadata": {},
   "outputs": [
    {
     "name": "stdout",
     "output_type": "stream",
     "text": [
      "10 percentile estimate of total cost: 98560.0\n",
      "median estimate of total cost: 98560.0\n",
      "90 percentile estimate of total cost: 120200.0\n",
      "\n",
      "Estimate: 102567.114623\n",
      "95% Confidence Interval :  (102381.18337118038, 102753.04587407262)\n"
     ]
    }
   ],
   "source": [
    "n=10000\n",
    "lowest_cost = (10*(2000*0.8)+11.2*(3000*0.8)+\\\n",
    "               12.3*(2000*0.8)+15*(3000*0.8))\n",
    "lowest_order = (2000+3000+2000+3000)*0.8\n",
    "overall_cost = np.empty(n)\n",
    "spot_price = np.random.triangular(16,20,30)\n",
    "\n",
    "for i in range(n):\n",
    "    small = np.random.binomial(10,0.5) #small contracts\n",
    "    large = np.random.binomial(2,0.4) #large contracts\n",
    "    demand = 4000 + small*200 + large *2500\n",
    "    shortage = max(0, demand - lowest_order)\n",
    "    add_cost = 0\n",
    "    if (shortage>0):\n",
    "        add_cost += min(2000*0.2,shortage)*10+\\\n",
    "        min(max(shortage-2000*0.2,0), 3000*0.2)*11.2+\\\n",
    "        min(max(shortage-2000*0.2-3000*0.2,0),2000*0.2)*12.3+\\\n",
    "        min(max(shortage-2000*0.4-3000*0.2,0),3000*0.2)*15+\\\n",
    "        max(shortage-2000*0.4-3000*0.4,0)*spot_price\n",
    "    overall_cost[i] = lowest_cost + add_cost\n",
    "\n",
    "print ('10 percentile estimate of total cost: '+\\\n",
    "str(np.percentile(overall_cost,10)))\n",
    "print ('median estimate of total cost: '+\\\n",
    "str(np.percentile(overall_cost,50)))\n",
    "print ('90 percentile estimate of total cost: '+\\\n",
    "str(np.percentile(overall_cost,90)))\n",
    "\n",
    "all_mean = np.mean(overall_cost)\n",
    "var = np.var(overall_cost, ddof=1)\n",
    "\n",
    "halfwidth = sp.stats.norm.ppf(0.975)*sqrt(var/n)\n",
    "LB = all_mean-halfwidth\n",
    "UB = all_mean+halfwidth\n",
    "\n",
    "print (\"\")\n",
    "print ('Estimate: ' + str(all_mean))\n",
    "print ('95% Confidence Interval : ', (LB,UB))"
   ]
  },
  {
   "cell_type": "markdown",
   "metadata": {},
   "source": [
    "#### Which subset of suppliers should Fingerlakes contract with so as to minimize the expected chip supply cost, and what is the resulting expected chip supply cost?"
   ]
  },
  {
   "cell_type": "markdown",
   "metadata": {},
   "source": [
    "Since we need to satisfy at least 4,000 tons, we need to have at least 2 suppliers. \n",
    "\n",
    "\n",
    "{1,2} is always preferable over {1,4},{2,3},{3,4}. <br>\n",
    "Subset of size 2 to check: {1,2}, {1,3}, {2,4}.\n",
    "\n",
    "\n",
    "{1,2,3} is always preferable over {1,3,4}, <br>\n",
    "{1,2,4} is always preferable over {2,3,4}. <br>\n",
    "Subset of size 3 to check: {1,2,3}, {1,2,4}\n",
    "\n",
    "We have already checked {1,2,3,4} in 3a)."
   ]
  },
  {
   "cell_type": "code",
   "execution_count": 17,
   "metadata": {},
   "outputs": [
    {
     "name": "stdout",
     "output_type": "stream",
     "text": [
      "Fingerlakes should contact the subset of suppliers [1, 2, 3] to minimize the expected chip supply cost with the resulting expected chip supply cost $88783.45.\n"
     ]
    }
   ],
   "source": [
    "check = [[1,2],[1,3],[2,4],[1,2,3],[1,2,4]]\n",
    "Price = [10, 11.2, 12.3, 15]\n",
    "Capacity = [2000, 3000, 2000, 3000]\n",
    "\n",
    "\n",
    "n=10000\n",
    "\n",
    "cheapest_subset = 0\n",
    "cheapest_cost = all_mean #start by saying cheapest is {1,2,3,4}\n",
    "\n",
    "overall_cost = np.empty(n)\n",
    "\n",
    "for x in check:\n",
    "    if (len(x) == 2):\n",
    "        lowest_cost = Price[x[0]-1]*(Capacity[x[0]-1]*0.8)+\\\n",
    "                       Price[x[1]-1]*(Capacity[x[1]-1]*0.8)\n",
    "        \n",
    "        for i in range(n):\n",
    "            small = np.random.binomial(10,0.5) #small contracts\n",
    "            large = np.random.binomial(2,0.4) #large contracts\n",
    "            demand = 4000 + small*200 + large *2500\n",
    "            lowest_order = (Capacity[x[0]-1] + Capacity[x[1]-1])*0.8\n",
    "            shortage = max(0, demand - lowest_order)\n",
    "            spot_price = np.random.triangular(16,20,30)\n",
    "            add_cost = 0\n",
    "            if (shortage>0):\n",
    "                add_cost += min(Capacity[x[0]-1]*0.2,shortage)*Price[x[0]-1]+\\\n",
    "                min(max(shortage-Capacity[x[0]-1]*0.2,0), Capacity[x[1]-1]*0.2)*Price[x[1]-1]+\\\n",
    "                max(shortage-Capacity[x[0]-1]*0.2-Capacity[x[1]-1]*0.2,0)*spot_price\n",
    "        \n",
    "            overall_cost[i] = lowest_cost + add_cost\n",
    "    \n",
    "    if (len(x) == 3):\n",
    "        lowest_cost = Price[x[0]-1]*(Capacity[x[0]-1]*0.8)+\\\n",
    "                       Price[x[1]-1]*(Capacity[x[1]-1]*0.8)+\\\n",
    "                        Price[x[2]-1]*(Capacity[x[2]-1]*0.8)\n",
    "        \n",
    "        for i in range(n):\n",
    "            small = np.random.binomial(10,0.5) #small contracts\n",
    "            large = np.random.binomial(2,0.4) #large contracts\n",
    "            demand = 4000 + small*200 + large *2500\n",
    "            lowest_order = (Capacity[x[0]-1] + Capacity[x[1]-1]+Capacity[x[2]-1])*0.8\n",
    "            shortage = max(0, demand - lowest_order)\n",
    "            spot_price = np.random.triangular(16,20,30)\n",
    "            add_cost = 0\n",
    "            if (shortage>0):\n",
    "                add_cost += min(Capacity[x[0]-1]*0.2,shortage)*Price[x[0]-1]+\\\n",
    "                min(max(shortage-Capacity[x[0]-1]*0.2,0), Capacity[x[1]-1]*0.2)*Price[x[1]-1]+\\\n",
    "                min(max(shortage-Capacity[x[0]-1]*0.2-Capacity[x[1]-1]*0.2,0), Capacity[x[2]-1]*0.2)*Price[x[2]-1]+\\\n",
    "                max(shortage-Capacity[x[0]-1]*0.2-Capacity[x[1]-1]*0.2-Capacity[x[2]-1]*0.2,0)*spot_price\n",
    "        \n",
    "            overall_cost[i] = lowest_cost + add_cost\n",
    "\n",
    "    mean = np.mean(overall_cost)\n",
    "    \n",
    "    if mean < cheapest_cost:\n",
    "        cheapest_cost = mean\n",
    "        cheapest_subset = x\n",
    "\n",
    "#print cheapest_cost\n",
    "        \n",
    "print ('Fingerlakes should contact the subset of suppliers '+\\\n",
    "str(cheapest_subset) + ' to minimize the expected chip supply cost'+\\\n",
    "' with the resulting expected chip supply cost $' +\\\n",
    "str(round(cheapest_cost,2)) + '.')"
   ]
  },
  {
   "cell_type": "code",
   "execution_count": null,
   "metadata": {
    "collapsed": true
   },
   "outputs": [],
   "source": []
  }
 ],
 "metadata": {
  "kernelspec": {
   "display_name": "Python 3",
   "language": "python",
   "name": "python3"
  },
  "language_info": {
   "codemirror_mode": {
    "name": "ipython",
    "version": 3
   },
   "file_extension": ".py",
   "mimetype": "text/x-python",
   "name": "python",
   "nbconvert_exporter": "python",
   "pygments_lexer": "ipython3",
   "version": "3.6.2"
  }
 },
 "nbformat": 4,
 "nbformat_minor": 2
}
