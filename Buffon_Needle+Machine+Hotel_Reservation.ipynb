{
 "cells": [
  {
   "cell_type": "markdown",
   "metadata": {},
   "source": [
    "# Buffon Needle Experiment"
   ]
  },
  {
   "cell_type": "markdown",
   "metadata": {},
   "source": [
    "#### Recall Buffon’s needle experiment in which we drop needles of length 1 on a floor of parallel lines that are equally spaced 1 unit apart. If we drop n needles and N<sub>cross</sub> of them cross a line, then an estimate of $\\pi$ is $\\hat{\\pi}$<sub>n</sub> = 2n/N<sub>cross</sub>."
   ]
  },
  {
   "cell_type": "markdown",
   "metadata": {},
   "source": [
    "#### For a range of values of n between 10 and 10,000, perform 30 replications of the Buffon needle experiment. For each value of n you test, plot the average of the 30 estimates of $\\pi$ and a 95% confidence interval for the expected value of $\\hat{\\pi}$<sub>n</sub>. To clarify, you should only be making one plot, with n on the x-axis."
   ]
  },
  {
   "cell_type": "code",
   "execution_count": 14,
   "metadata": {},
   "outputs": [
    {
     "name": "stdout",
     "output_type": "stream",
     "text": [
      "Populating the interactive namespace from numpy and matplotlib\n"
     ]
    },
    {
     "name": "stderr",
     "output_type": "stream",
     "text": [
      "/Users/yujinhur/anaconda3/lib/python3.6/site-packages/IPython/core/magics/pylab.py:160: UserWarning: pylab import has clobbered these variables: ['mean', 'var']\n",
      "`%matplotlib` prevents importing * from pylab and numpy\n",
      "  \"\\n`%matplotlib` prevents importing * from pylab and numpy\"\n"
     ]
    }
   ],
   "source": [
    "import matplotlib.pyplot as plt\n",
    "import scipy as sp\n",
    "import scipy.stats\n",
    "%pylab inline"
   ]
  },
  {
   "cell_type": "code",
   "execution_count": 2,
   "metadata": {
    "collapsed": true
   },
   "outputs": [],
   "source": [
    "# Given by Professor Siddhartha Banerjee\n",
    "def buffon(N,length,dist,seed=-1):\n",
    "    # N = number of throws \n",
    "    # length = length of match\n",
    "    # dist = distance between lines\n",
    "    # seed = seed for random number generator\n",
    "    \n",
    "    # Visualize parallel vertical lines\n",
    "    \n",
    "    if seed==-1:\n",
    "        xcent = np.random.uniform(0,dist/2.0,N) # random x-coordinate of center point\n",
    "        theta = np.random.uniform(0,math.pi/2,N) # random angle\n",
    "    else:\n",
    "        np.random.seed(seed)\n",
    "        xcent = np.random.uniform(0,dist/2.0,N) # random x-coordinate of center point\n",
    "        theta = np.random.uniform(0,math.pi/2,N) # random angle\n",
    "\n",
    "    xtip_l  = xcent - (length/2.0)*np.cos(theta) # generate left endpoint\n",
    "    pihatN = 2.0*length*N/(dist*(sum(xtip_l < 0)))     \n",
    "    return pihatN"
   ]
  },
  {
   "cell_type": "code",
   "execution_count": 4,
   "metadata": {},
   "outputs": [
    {
     "name": "stdout",
     "output_type": "stream",
     "text": [
      "3.50877192982\n"
     ]
    }
   ],
   "source": [
    "sample_estimate = buffon(100,1,1)\n",
    "print (sample_estimate)"
   ]
  },
  {
   "cell_type": "code",
   "execution_count": 5,
   "metadata": {
    "collapsed": true
   },
   "outputs": [],
   "source": [
    "#### based of recitation\n",
    "r = 30 # number of replications\n",
    "avg_estimate = np.zeros(1000)\n",
    "sd_estimate = np.zeros(1000)"
   ]
  },
  {
   "cell_type": "code",
   "execution_count": 16,
   "metadata": {},
   "outputs": [],
   "source": [
    "mean = np.zeros(1000)\n",
    "var = np.zeros(1000)\n",
    "\n",
    "for j in range(1000):\n",
    "    n = 10 + 10*j #range n from 10 to 10000 in increments of 10\n",
    "    trial = np.zeros(r)\n",
    "    \n",
    "    for i in range(r):\n",
    "        trial[i] = buffon(n,1,1)\n",
    "        \n",
    "    mean[j] = np.sum(trial)/30.\n",
    "    var[j] = np.sum(trial**2)/30. - (mean[j])**2\n",
    "\n",
    "#print (mean)"
   ]
  },
  {
   "cell_type": "code",
   "execution_count": 17,
   "metadata": {},
   "outputs": [
    {
     "data": {
      "text/plain": [
       "<Container object of 3 artists>"
      ]
     },
     "execution_count": 17,
     "metadata": {},
     "output_type": "execute_result"
    },
    {
     "data": {
      "image/png": "[encoded data removed]",
      "text/plain": [
       "<matplotlib.figure.Figure at 0x114c32898>"
      ]
     },
     "metadata": {},
     "output_type": "display_data"
    }
   ],
   "source": [
    "n_range = range(10,10010,10)\n",
    "plt.plot(n_range, mean);\n",
    "plt.errorbar(n_range, mean, yerr=scipy.stats.norm.ppf(0.975)*var/np.sqrt(r), ecolor = 'cyan')"
   ]
  },
  {
   "cell_type": "markdown",
   "metadata": {},
   "source": [
    "# Silicon Wafer Machine"
   ]
  },
  {
   "cell_type": "markdown",
   "metadata": {},
   "source": [
    "#### Consider a machine that produces silicon wafers. Each wafer produced is acceptable with probability P, and faulty with probability 1 − P, independent of all else. Unfortunately, P depends on things such as maintenance, personnel attentiveness, etc. that we cannot know with certainty, so we have decided to model P as a random variable that is uniformly distributed on (0.92, 0.96). The machine produces a single batch of 500 wafers each day and the factors that affect P are assumed to stay constant within the same day. As a result, we assume that each wafer in a single batch sees the same value of P, but different batches see different values of P."
   ]
  },
  {
   "cell_type": "markdown",
   "metadata": {},
   "source": [
    "#### Use simulation to compute the expected number of acceptable wafers in a batch of 500 wafers (call this m, say). Give a 95% confidence interval for m that is accurate to one decimal place, choosing the number of samples (i.e., number of days to simulate) appropriately."
   ]
  },
  {
   "cell_type": "markdown",
   "metadata": {},
   "source": [
    "Find number of days to simulate:\n",
    "\n",
    "$$\\frac{z_{0.025}\\cdot s}{\\sqrt{n}} \\le 0.05$$\n",
    "\n",
    "$$n \\ge \\Bigg(\\frac{z_{0.025}\\cdot s}{0.05} \\Bigg)^2$$"
   ]
  },
  {
   "cell_type": "code",
   "execution_count": 21,
   "metadata": {},
   "outputs": [
    {
     "name": "stdout",
     "output_type": "stream",
     "text": [
      "The 95% confidence interval for expected number of acceptable wafers in a batch of 500 wafers is (469.94929113902407, 470.05034344246423) using 93044 days of simulation.\n"
     ]
    }
   ],
   "source": [
    "#For 95% confidence interval\n",
    "phi = sp.stats.norm.ppf(0.025)\n",
    "batch_size = 500\n",
    "\n",
    "# FIND NUMBER OF DAYS TO SIMULATE\n",
    "trial_days = 1000\n",
    "batch = np.random.rand(trial_days, batch_size)\n",
    "prob = np.random.uniform(0.92, 0.96, trial_days)\n",
    "num_acceptable = np.empty([trial_days,1])\n",
    "\n",
    "for t in range(trial_days):\n",
    "    num_acceptable[t] = np.sum((batch[t,:]<prob[t]) + 0)\n",
    "\n",
    "s = np.std(num_acceptable, ddof=1) #sample variance\n",
    "n = int((phi*s/0.05)**2) + 1 #number of days to simulate\n",
    "\n",
    "\n",
    "# SIMULATE \n",
    "sim_days = n\n",
    "batch = np.random.rand(sim_days, batch_size)\n",
    "prob = np.random.uniform(0.92, 0.96, sim_days)\n",
    "num_acceptable = np.empty([sim_days,1])\n",
    "\n",
    "for d in range(sim_days):\n",
    "    num_acceptable[d] = np.sum((batch[d,:]<prob[d]) + 0)\n",
    "\n",
    "s = np.std(num_acceptable, ddof=1) # sample variance\n",
    "mean = np.mean(num_acceptable) # sample mean\n",
    "halfwidth = s*phi/np.sqrt(sim_days)\n",
    "\n",
    "LB = mean + halfwidth #lowerbound\n",
    "UB = mean - halfwidth #upperbound\n",
    "\n",
    "print (\"The 95% confidence interval for expected number of acceptable wafers in a batch of 500\\\n",
    " wafers is \" + str((LB,UB)) +\" using \" + str(sim_days) + \" days of simulation.\")"
   ]
  },
  {
   "cell_type": "markdown",
   "metadata": {},
   "source": [
    "#### Use the simulation to give a 95% confidence interval for the probability, q, that 475 or more of the 500 wafers in a batch are acceptable. Choose the number of samples appropriately so that your estimate of q is accurate to one decimal place."
   ]
  },
  {
   "cell_type": "code",
   "execution_count": 22,
   "metadata": {},
   "outputs": [
    {
     "name": "stdout",
     "output_type": "stream",
     "text": [
      "The 95% confidence interval for the probability, q, that 475 or more of the 500 wafers in a batch are acceptable is (0.2504823769559521, 0.34951762304404788) using 330 days of simulation.\n"
     ]
    }
   ],
   "source": [
    "#For 95% confidence interval\n",
    "phi = sp.stats.norm.ppf(0.025)\n",
    "batch_size = 500\n",
    "\n",
    "trial_days = 1000\n",
    "batch = np.random.rand(trial_days, batch_size)\n",
    "prob = np.random.uniform(0.92, 0.96, trial_days)\n",
    "p_acceptable = np.empty([trial_days,1])\n",
    "\n",
    "for t in range(trial_days):\n",
    "    p_acceptable[t] = (np.sum((batch[t,:]<prob[t]) + 0) >= 475) + 0\n",
    "\n",
    "s = np.std(p_acceptable, ddof=1) #sample variance\n",
    "n = int((phi*s/0.05)**2) + 1 #number of days to simulate\n",
    "\n",
    "# SIMULATE \n",
    "sim_days = n\n",
    "batch = np.random.rand(sim_days, batch_size)\n",
    "prob = np.random.uniform(0.92, 0.96, sim_days)\n",
    "p_acceptable = np.empty([sim_days,1])\n",
    "\n",
    "for d in range(sim_days):\n",
    "    p_acceptable[d] = (np.sum((batch[d,:]<prob[d]) + 0) >= 475) + 0 \n",
    "\n",
    "#print np.sum(p_acceptable)\n",
    "#print 475./500\n",
    "\n",
    "    \n",
    "s = np.std(p_acceptable, ddof=1) # sample variance\n",
    "mean = np.mean(p_acceptable) # sample mean\n",
    "halfwidth = s*phi/np.sqrt(sim_days) \n",
    "\n",
    "LB = mean + halfwidth #lowerbound\n",
    "UB = mean - halfwidth #upperbound\n",
    "\n",
    "print (\"The 95% confidence interval for the probability, q, that 475 or more of the 500\\\n",
    " wafers in a batch are acceptable is \" + str((LB,UB)) +\" using \" + str(sim_days) + \" days of simulation.\")"
   ]
  },
  {
   "cell_type": "markdown",
   "metadata": {},
   "source": [
    "# Hotel Reservation"
   ]
  },
  {
   "cell_type": "markdown",
   "metadata": {},
   "source": [
    "#### A hotel has 100 rooms. For simplicity, assume that people pay for hotel rooms in advance (as with hotels.com etc). The number of paid hotel rooms for tomorrow night is 104. (Hotels usually overbook.) Rooms are held until 10pm, but if a guest hasn’t shown up by 10pm, then the booking is cancelled, and the hotel keeps the booked guest’s money. The hotel has learned from past experience that the probability that any booked guest actually shows up by 10pm is p = 19/20, and that hotel guests show up (or not) independently from one another.\n"
   ]
  },
  {
   "cell_type": "markdown",
   "metadata": {},
   "source": [
    "#### What is the probability that there will not be enough rooms for the booked guests who show up by 10pm? (No need to use simulation.)"
   ]
  },
  {
   "cell_type": "code",
   "execution_count": 24,
   "metadata": {},
   "outputs": [
    {
     "name": "stdout",
     "output_type": "stream",
     "text": [
      "0.230795143163\n"
     ]
    }
   ],
   "source": [
    "import scipy.stats as ss\n",
    "\n",
    "binomial = ss.binom(n,19./20)\n",
    "\n",
    "# Probability of overbooking: P(X > 100)\n",
    "POverbooked = 0 \n",
    "for n in range(101,105):\n",
    "    POverbooked += binomial.pmf(n)\n",
    "print (POverbooked)"
   ]
  },
  {
   "cell_type": "markdown",
   "metadata": {},
   "source": [
    "#### Suppose that guests pay \\$80 to reserve a room, of which the hotel earns \\$50 in profit. However, if the hotel is overbooked, the hotel must pay a compensation of \\$60 to each guest that is unable to stay at the hotel in addition to refunding the \\$80 pre-booking fee. For example, if we accept no reservations, the expected profit is \\$0. On the other hand, if we accept a very large number of reservations, we would expect to lose money since each guest who we have to turn away results in a loss of \\$60 in profit. Suppose demand for pre-booked rooms is unlimited. What number of rooms should be sold to maximize the expected profit?"
   ]
  },
  {
   "cell_type": "code",
   "execution_count": 25,
   "metadata": {},
   "outputs": [
    {
     "ename": "SyntaxError",
     "evalue": "invalid syntax (<ipython-input-25-4fc94248d54a>, line 13)",
     "output_type": "error",
     "traceback": [
      "\u001b[0;36m  File \u001b[0;32m\"<ipython-input-25-4fc94248d54a>\"\u001b[0;36m, line \u001b[0;32m13\u001b[0m\n\u001b[0;31m    print str(100+np.argmax(profit)) + \", \" + str(np.amax(profit))\u001b[0m\n\u001b[0m            ^\u001b[0m\n\u001b[0;31mSyntaxError\u001b[0m\u001b[0;31m:\u001b[0m invalid syntax\n"
     ]
    }
   ],
   "source": [
    "rooms = np.arange(100,500) \n",
    "num_rooms = len(rooms) \n",
    "\n",
    "num_trials = 1000 \n",
    "val = np.empty([num_rooms, num_trials])\n",
    "\n",
    "for n in range(num_trials):\n",
    "    val[:,n] = sp.stats.binom.ppf(np.random.rand(), rooms, float(19)/20)\n",
    "\n",
    "x = np.mean(val,1)\n",
    "\n",
    "profit = 50*np.minimum(x,100)- 60*np.maximum(x-100,0)\n",
    "print str(100+np.argmax(profit)) + \", \" + str(np.amax(profit))"
   ]
  },
  {
   "cell_type": "code",
   "execution_count": null,
   "metadata": {
    "collapsed": true
   },
   "outputs": [],
   "source": []
  }
 ],
 "metadata": {
  "kernelspec": {
   "display_name": "Python 3",
   "language": "python",
   "name": "python3"
  },
  "language_info": {
   "codemirror_mode": {
    "name": "ipython",
    "version": 3
   },
   "file_extension": ".py",
   "mimetype": "text/x-python",
   "name": "python",
   "nbconvert_exporter": "python",
   "pygments_lexer": "ipython3",
   "version": "3.6.2"
  }
 },
 "nbformat": 4,
 "nbformat_minor": 2
}
